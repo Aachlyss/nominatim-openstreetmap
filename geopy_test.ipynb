{
 "cells": [
  {
   "cell_type": "markdown",
   "id": "1ce5a799",
   "metadata": {},
   "source": [
    "# Improts"
   ]
  },
  {
   "cell_type": "code",
   "execution_count": null,
   "id": "ee88297b",
   "metadata": {},
   "outputs": [],
   "source": [
    "from geopy.geocoders import Nominatim\n",
    "import json\n",
    "import pandas as pd\n",
    "from geopy.geocoders import Nominatim\n",
    "import time\n",
    "import numpy as np"
   ]
  },
  {
   "cell_type": "markdown",
   "id": "a38e87b5",
   "metadata": {},
   "source": [
    "## Testing Nominatiom GeoCode"
   ]
  },
  {
   "cell_type": "code",
   "execution_count": 2,
   "id": "739bc9bf",
   "metadata": {},
   "outputs": [],
   "source": [
    "locator = Nominatim(user_agent=\"Test Geocoder, contact:ivanangelov05@gmail.com\")"
   ]
  },
  {
   "cell_type": "code",
   "execution_count": 3,
   "id": "32356fb0",
   "metadata": {},
   "outputs": [],
   "source": [
    "location = locator.geocode(\"Rasho Dimitrov, Pernik, Bulgaria\")"
   ]
  },
  {
   "cell_type": "code",
   "execution_count": 4,
   "id": "0ddd0e5c",
   "metadata": {},
   "outputs": [
    {
     "name": "stdout",
     "output_type": "stream",
     "text": [
      "\n",
      "      Latitude: 42.6139825\n",
      "      Longitude: 23.0941489\n",
      "      Altitude: 0.0\n",
      "      Section Lon: 42 36m 50.337s N, 23 5m 38.936s E\n",
      "      Section Lat: 42.6139825\n",
      "      \n"
     ]
    }
   ],
   "source": [
    "print(f\"\"\"\n",
    "      Latitude: {location.latitude}\n",
    "      Longitude: {location.longitude}\n",
    "      Altitude: {location.altitude}\n",
    "      Section Lon: {location.point}\n",
    "      Section Lat: {location.point[0]}\n",
    "      \"\"\")"
   ]
  },
  {
   "cell_type": "markdown",
   "id": "4e7a9fda",
   "metadata": {},
   "source": [
    "# Load Data & Fetch Latitude and Longitude"
   ]
  },
  {
   "cell_type": "code",
   "execution_count": 5,
   "id": "5a6c3ffe",
   "metadata": {},
   "outputs": [],
   "source": [
    "# Load .JSON file\n",
    "with open(\"dsk_offices_parsed.json\", \"r\", encoding=\"utf-8\") as f:\n",
    "    data = json.load(f)"
   ]
  },
  {
   "cell_type": "code",
   "execution_count": null,
   "id": "7443c3c1",
   "metadata": {},
   "outputs": [],
   "source": [
    "# Fetcb lat and lon\n",
    "results = []\n",
    "for entry in data[\"entries\"]:\n",
    "    full_address = f'{entry[\"city\"]}, {entry[\"address_line\"]}'\n",
    "    try:\n",
    "        location = locator.geocode(full_address)\n",
    "        if location:\n",
    "            lat, lon = location.latitude, location.longitude\n",
    "        else:\n",
    "            lat, lon = None, None\n",
    "    except Exception as e:\n",
    "        lat, lon = None, None\n",
    "    \n",
    "    results.append({\n",
    "        \"otp_id\": entry[\"otp_id\"],\n",
    "        \"office_name\": entry[\"office_name\"],\n",
    "        \"city\": entry[\"city\"],\n",
    "        \"address\": entry[\"address_line\"],\n",
    "        \"lat\": lat,\n",
    "        \"lon\": lon\n",
    "    })\n",
    "    \n",
    "    time.sleep(1)  # avoid rate limits"
   ]
  },
  {
   "cell_type": "code",
   "execution_count": 20,
   "id": "e4bb981e",
   "metadata": {},
   "outputs": [
    {
     "data": {
      "text/html": [
       "<div>\n",
       "<style scoped>\n",
       "    .dataframe tbody tr th:only-of-type {\n",
       "        vertical-align: middle;\n",
       "    }\n",
       "\n",
       "    .dataframe tbody tr th {\n",
       "        vertical-align: top;\n",
       "    }\n",
       "\n",
       "    .dataframe thead th {\n",
       "        text-align: right;\n",
       "    }\n",
       "</style>\n",
       "<table border=\"1\" class=\"dataframe\">\n",
       "  <thead>\n",
       "    <tr style=\"text-align: right;\">\n",
       "      <th></th>\n",
       "      <th>otp_id</th>\n",
       "      <th>office_name</th>\n",
       "      <th>city</th>\n",
       "      <th>address</th>\n",
       "      <th>lat</th>\n",
       "      <th>lon</th>\n",
       "    </tr>\n",
       "  </thead>\n",
       "  <tbody>\n",
       "    <tr>\n",
       "      <th>0</th>\n",
       "      <td>315</td>\n",
       "      <td>ВЛАДИСЛАВ</td>\n",
       "      <td>Варна</td>\n",
       "      <td>Варненчик 92</td>\n",
       "      <td>43.212944</td>\n",
       "      <td>27.905547</td>\n",
       "    </tr>\n",
       "    <tr>\n",
       "      <th>1</th>\n",
       "      <td>337</td>\n",
       "      <td>ПРЕСЛАВ</td>\n",
       "      <td>Варна</td>\n",
       "      <td>Преслав 69</td>\n",
       "      <td>43.203059</td>\n",
       "      <td>27.913274</td>\n",
       "    </tr>\n",
       "    <tr>\n",
       "      <th>2</th>\n",
       "      <td>2404</td>\n",
       "      <td>КАВАРНА</td>\n",
       "      <td>Каварна</td>\n",
       "      <td>Добротица 25</td>\n",
       "      <td>43.431666</td>\n",
       "      <td>28.337607</td>\n",
       "    </tr>\n",
       "    <tr>\n",
       "      <th>3</th>\n",
       "      <td>704</td>\n",
       "      <td>СЕВЛИЕВО</td>\n",
       "      <td>Севлиево</td>\n",
       "      <td>Свобода 9</td>\n",
       "      <td>43.056967</td>\n",
       "      <td>24.972563</td>\n",
       "    </tr>\n",
       "    <tr>\n",
       "      <th>4</th>\n",
       "      <td>401</td>\n",
       "      <td>Търново ВЕЛИКО ТЪРНОВО</td>\n",
       "      <td>Велико</td>\n",
       "      <td>Цар Освободител 3</td>\n",
       "      <td>43.125522</td>\n",
       "      <td>25.689763</td>\n",
       "    </tr>\n",
       "  </tbody>\n",
       "</table>\n",
       "</div>"
      ],
      "text/plain": [
       "  otp_id             office_name      city            address        lat  \\\n",
       "0    315               ВЛАДИСЛАВ     Варна       Варненчик 92  43.212944   \n",
       "1    337                 ПРЕСЛАВ     Варна         Преслав 69  43.203059   \n",
       "2   2404                 КАВАРНА   Каварна       Добротица 25  43.431666   \n",
       "3    704                СЕВЛИЕВО  Севлиево          Свобода 9  43.056967   \n",
       "4    401  Търново ВЕЛИКО ТЪРНОВО    Велико  Цар Освободител 3  43.125522   \n",
       "\n",
       "         lon  \n",
       "0  27.905547  \n",
       "1  27.913274  \n",
       "2  28.337607  \n",
       "3  24.972563  \n",
       "4  25.689763  "
      ]
     },
     "metadata": {},
     "output_type": "display_data"
    }
   ],
   "source": [
    "# Look at data\n",
    "df = pd.DataFrame(results)\n",
    "display(df.head())"
   ]
  },
  {
   "cell_type": "markdown",
   "id": "876e5802",
   "metadata": {},
   "source": [
    "# Get User location"
   ]
  },
  {
   "cell_type": "code",
   "execution_count": null,
   "id": "20dd494f",
   "metadata": {},
   "outputs": [],
   "source": [
    "user_loc = \"София, Александър Стамболийски 101\" # Example"
   ]
  },
  {
   "cell_type": "code",
   "execution_count": null,
   "id": "6793524f",
   "metadata": {},
   "outputs": [],
   "source": [
    "user_loc_coordinates = locator.geocode(user_loc) # Get Lat and Lon for the user's address"
   ]
  },
  {
   "cell_type": "code",
   "execution_count": null,
   "id": "11b170d5",
   "metadata": {},
   "outputs": [
    {
     "name": "stdout",
     "output_type": "stream",
     "text": [
      "\n",
      "        User Coordinates:\n",
      "        Latitude: 42.6981898\n",
      "        Longitude: 23.308529\n",
      "\n"
     ]
    }
   ],
   "source": [
    "lat_u, lon_u = user_loc_coordinates.latitude, user_loc_coordinates.longitude\n",
    "\n",
    "print(f\"\"\"\n",
    "        User Coordinates:\n",
    "        Latitude: {lat_u}\n",
    "        Longitude: {lon_u}\n",
    "\"\"\")"
   ]
  },
  {
   "cell_type": "code",
   "execution_count": null,
   "id": "bd734940",
   "metadata": {},
   "outputs": [
    {
     "data": {
      "text/html": [
       "<div>\n",
       "<style scoped>\n",
       "    .dataframe tbody tr th:only-of-type {\n",
       "        vertical-align: middle;\n",
       "    }\n",
       "\n",
       "    .dataframe tbody tr th {\n",
       "        vertical-align: top;\n",
       "    }\n",
       "\n",
       "    .dataframe thead th {\n",
       "        text-align: right;\n",
       "    }\n",
       "</style>\n",
       "<table border=\"1\" class=\"dataframe\">\n",
       "  <thead>\n",
       "    <tr style=\"text-align: right;\">\n",
       "      <th></th>\n",
       "      <th>otp_id</th>\n",
       "      <th>office_name</th>\n",
       "      <th>city</th>\n",
       "      <th>address</th>\n",
       "      <th>lat</th>\n",
       "      <th>lon</th>\n",
       "    </tr>\n",
       "  </thead>\n",
       "  <tbody>\n",
       "    <tr>\n",
       "      <th>3</th>\n",
       "      <td>704</td>\n",
       "      <td>СЕВЛИЕВО</td>\n",
       "      <td>Севлиево</td>\n",
       "      <td>Свобода 9</td>\n",
       "      <td>43.056967</td>\n",
       "      <td>24.972563</td>\n",
       "    </tr>\n",
       "    <tr>\n",
       "      <th>28</th>\n",
       "      <td>2601</td>\n",
       "      <td>ХАСКОВО</td>\n",
       "      <td>Хасково</td>\n",
       "      <td>Свобода 9</td>\n",
       "      <td>41.933275</td>\n",
       "      <td>25.557991</td>\n",
       "    </tr>\n",
       "  </tbody>\n",
       "</table>\n",
       "</div>"
      ],
      "text/plain": [
       "   otp_id office_name      city    address        lat        lon\n",
       "3     704    СЕВЛИЕВО  Севлиево  Свобода 9  43.056967  24.972563\n",
       "28   2601     ХАСКОВО   Хасково  Свобода 9  41.933275  25.557991"
      ]
     },
     "execution_count": 23,
     "metadata": {},
     "output_type": "execute_result"
    }
   ],
   "source": [
    "counts = df['address'].value_counts()   # how many times each address appears\n",
    "df[df['address'].map(counts) != 1]      # addresses with more than one appearance"
   ]
  },
  {
   "cell_type": "code",
   "execution_count": null,
   "id": "1afc389f",
   "metadata": {},
   "outputs": [
    {
     "data": {
      "text/html": [
       "<div>\n",
       "<style scoped>\n",
       "    .dataframe tbody tr th:only-of-type {\n",
       "        vertical-align: middle;\n",
       "    }\n",
       "\n",
       "    .dataframe tbody tr th {\n",
       "        vertical-align: top;\n",
       "    }\n",
       "\n",
       "    .dataframe thead th {\n",
       "        text-align: right;\n",
       "    }\n",
       "</style>\n",
       "<table border=\"1\" class=\"dataframe\">\n",
       "  <thead>\n",
       "    <tr style=\"text-align: right;\">\n",
       "      <th></th>\n",
       "      <th>otp_id</th>\n",
       "      <th>office_name</th>\n",
       "      <th>city</th>\n",
       "      <th>address</th>\n",
       "      <th>lat</th>\n",
       "      <th>lon</th>\n",
       "      <th>full_address</th>\n",
       "    </tr>\n",
       "  </thead>\n",
       "  <tbody>\n",
       "    <tr>\n",
       "      <th>0</th>\n",
       "      <td>315</td>\n",
       "      <td>ВЛАДИСЛАВ</td>\n",
       "      <td>Варна</td>\n",
       "      <td>Варненчик 92</td>\n",
       "      <td>43.212944</td>\n",
       "      <td>27.905547</td>\n",
       "      <td>Варна, Варненчик 92</td>\n",
       "    </tr>\n",
       "    <tr>\n",
       "      <th>1</th>\n",
       "      <td>337</td>\n",
       "      <td>ПРЕСЛАВ</td>\n",
       "      <td>Варна</td>\n",
       "      <td>Преслав 69</td>\n",
       "      <td>43.203059</td>\n",
       "      <td>27.913274</td>\n",
       "      <td>Варна, Преслав 69</td>\n",
       "    </tr>\n",
       "  </tbody>\n",
       "</table>\n",
       "</div>"
      ],
      "text/plain": [
       "  otp_id office_name   city       address        lat        lon  \\\n",
       "0    315   ВЛАДИСЛАВ  Варна  Варненчик 92  43.212944  27.905547   \n",
       "1    337     ПРЕСЛАВ  Варна    Преслав 69  43.203059  27.913274   \n",
       "\n",
       "          full_address  \n",
       "0  Варна, Варненчик 92  \n",
       "1    Варна, Преслав 69  "
      ]
     },
     "execution_count": 12,
     "metadata": {},
     "output_type": "execute_result"
    }
   ],
   "source": [
    "df['full_address'] = df['city'] + ', ' + df['address']  # added full_address, because I noticed it is better \n",
    "df.head(2)                                              # for Nominatim to find the correct address."
   ]
  },
  {
   "cell_type": "markdown",
   "id": "bc117163",
   "metadata": {},
   "source": [
    "# Find Nearest ATM\n",
    "1. Write algorithm for nearest lat/lon\n",
    "\n",
    "### Schema:\n",
    "1. Compute deltas:\n",
    "dlat = lat_i - lat_u\n",
    "dlon = lon_i - lon_u\n",
    "\n",
    "2. Haversine core:\n",
    "a = sin²(dlat/2) + cos(lat_u) * cos(lat_i) * sin²(dlon/2)\n",
    "\n",
    "3. Central angle:\n",
    "c = 2 * atan2(√a, √(1−a))\n",
    "4. Distance:\n",
    "d = R * c where R ≈ 6_371_000 meters (or 6371 km)."
   ]
  },
  {
   "cell_type": "code",
   "execution_count": null,
   "id": "d00a9cea",
   "metadata": {},
   "outputs": [],
   "source": [
    "delta_lat_list = [] \n",
    "delta_lon_list = []\n",
    "id_lat_lon_dict = {}    # Key: id, Value: (i_lat, i_lon, delta_lat, delta_lon)\n",
    "                        # Dictionary for storing coordinates and delta of coordinates.\n",
    "for idx, row in df.iterrows():\n",
    "    delta_lat = row[\"lat\"] - lat_u\n",
    "    delta_lon = row[\"lon\"] - lon_u\n",
    "    i_lat = row[\"lat\"]\n",
    "    i_lon = row[\"lon\"]\n",
    "    id_lat_lon_dict[idx] = (i_lat, i_lon, delta_lat, delta_lon)"
   ]
  },
  {
   "cell_type": "code",
   "execution_count": 14,
   "id": "87a9358e",
   "metadata": {},
   "outputs": [
    {
     "data": {
      "text/plain": [
       "43.2129444"
      ]
     },
     "execution_count": 14,
     "metadata": {},
     "output_type": "execute_result"
    }
   ],
   "source": [
    "id_lat_lon_dict[0][0]"
   ]
  },
  {
   "cell_type": "markdown",
   "id": "67b76f28",
   "metadata": {},
   "source": [
    "### Haversine score"
   ]
  },
  {
   "cell_type": "code",
   "execution_count": 15,
   "id": "aef81729",
   "metadata": {},
   "outputs": [],
   "source": [
    "haversine_scores = []\n",
    "\n",
    "lat_u_rad = np.deg2rad(lat_u)\n",
    "lon_u_rad = np.deg2rad(lon_u)\n",
    "\n",
    "for lat_lon in id_lat_lon_dict.values():\n",
    "    candidate_lat = lat_lon[0]\n",
    "    candidate_lon = lat_lon[1]\n",
    "    candidate_lat_rad = np.deg2rad(candidate_lat)\n",
    "    candidate_lon_rad = np.deg2rad(candidate_lon)\n",
    "    delta_lat_rad = candidate_lat_rad - lat_u_rad\n",
    "    delta_lon_rad = candidate_lon_rad - lon_u_rad\n",
    "    score = np.sin(delta_lat_rad / 2) ** 2 + np.cos(lat_u_rad) * np.cos(candidate_lat_rad) * np.sin(delta_lon_rad / 2) ** 2\n",
    "    haversine_scores.append(score)\n",
    "    \n"
   ]
  },
  {
   "cell_type": "code",
   "execution_count": 16,
   "id": "fd5b6c0a",
   "metadata": {},
   "outputs": [
    {
     "data": {
      "text/plain": [
       "np.float64(0.0008817282914375221)"
      ]
     },
     "execution_count": 16,
     "metadata": {},
     "output_type": "execute_result"
    }
   ],
   "source": [
    "haversine_scores[0]"
   ]
  },
  {
   "cell_type": "markdown",
   "id": "14b73065",
   "metadata": {},
   "source": [
    "### Central Angle"
   ]
  },
  {
   "cell_type": "code",
   "execution_count": 17,
   "id": "bb533666",
   "metadata": {},
   "outputs": [],
   "source": [
    "central_angle_scores = []\n",
    "\n",
    "for haversine_score in haversine_scores:\n",
    "    cntrl_ang = 2 * np.atan2(np.sqrt(haversine_score), np.sqrt(1 - haversine_score))\n",
    "    central_angle_scores.append(cntrl_ang)"
   ]
  },
  {
   "cell_type": "code",
   "execution_count": 18,
   "id": "134d8a14",
   "metadata": {},
   "outputs": [],
   "source": [
    "assert len(central_angle_scores) == df['full_address'].nunique(), \\\n",
    "    \"There must be a score for each candidate!\""
   ]
  },
  {
   "cell_type": "code",
   "execution_count": 19,
   "id": "25356e27",
   "metadata": {},
   "outputs": [
    {
     "name": "stdout",
     "output_type": "stream",
     "text": [
      "36 73.3660482270946\n"
     ]
    }
   ],
   "source": [
    "R = 6_371_000\n",
    "distances = [\n",
    "    (idx, R * score)\n",
    "    for idx, score in enumerate(central_angle_scores)\n",
    "]\n",
    "\n",
    "distances.sort(key=lambda x: x[1])\n",
    "closest_idx, closest_distance = distances[0]\n",
    "\n",
    "print(closest_idx, closest_distance)\n"
   ]
  },
  {
   "cell_type": "code",
   "execution_count": null,
   "id": "654e7069",
   "metadata": {},
   "outputs": [],
   "source": []
  },
  {
   "cell_type": "code",
   "execution_count": null,
   "id": "705505c1",
   "metadata": {},
   "outputs": [],
   "source": []
  }
 ],
 "metadata": {
  "kernelspec": {
   "display_name": ".venv (3.12.2)",
   "language": "python",
   "name": "python3"
  },
  "language_info": {
   "codemirror_mode": {
    "name": "ipython",
    "version": 3
   },
   "file_extension": ".py",
   "mimetype": "text/x-python",
   "name": "python",
   "nbconvert_exporter": "python",
   "pygments_lexer": "ipython3",
   "version": "3.12.2"
  }
 },
 "nbformat": 4,
 "nbformat_minor": 5
}
