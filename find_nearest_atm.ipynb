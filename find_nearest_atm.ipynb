{
  "cells": [
    {
      "cell_type": "markdown",
      "metadata": {},
      "source": [
        "# Find Nearest ATM\n",
        "\n",
        "Use this notebook to enrich the DSK office list with geographic coordinates so that follow-up nearest-ATM lookups can rely on latitude/longitude instead of free-form addresses. The steps below load the office JSON, geocode each address, and persist the results."
      ]
    },
    {
      "cell_type": "markdown",
      "metadata": {},
      "source": [
        "> ⚠️ Geocoding calls an external (or locally hosted) Nominatim service. Respect the service usage policy, throttle requests, and prefer a self-hosted instance when possible."
      ]
    },
    {
      "cell_type": "code",
      "execution_count": null,
      "metadata": {},
      "outputs": [],
      "source": [
        "# Optional: install dependencies in the active kernel (uncomment if needed)\n",
        "# %pip install geopy pandas\n"
      ]
    },
    {
      "cell_type": "code",
      "execution_count": null,
      "metadata": {},
      "outputs": [],
      "source": [
        "import json\n",
        "from pathlib import Path\n",
        "from typing import Dict, Tuple\n\n",
        "import pandas as pd\n\n",
        "try:\n",
        "    from geopy.geocoders import Nominatim\n",
        "    from geopy.extra.rate_limiter import RateLimiter\n",
        "except ModuleNotFoundError as exc:\n",
        "    raise ModuleNotFoundError('Install geopy in this environment: `pip install geopy`.') from exc\n"
      ]
    },
    {
      "cell_type": "code",
      "execution_count": null,
      "metadata": {},
      "outputs": [],
      "source": [
        "DATA_PATH = Path('dsk_offices_parsed.json')\n\n",
        "with DATA_PATH.open(encoding='utf-8') as fp:\n",
        "    offices_payload = json.load(fp)\n\n",
        "entries = offices_payload['entries']\n",
        "offices_df = pd.DataFrame(entries)\n",
        "offices_df.head()\n"
      ]
    },
    {
      "cell_type": "markdown",
      "metadata": {},
      "source": [
        "Configure the geocoding client. Update `GEOCODER_DOMAIN` if you run a local Nominatim instance (for example `localhost:8080`)."
      ]
    },
    {
      "cell_type": "code",
      "execution_count": null,
      "metadata": {},
      "outputs": [],
      "source": [
        "GEOCODER_DOMAIN = 'nominatim.openstreetmap.org'  # set to 'localhost:8080' when using a local instance\n",
        "GEOCODER_SCHEME = 'https' if GEOCODER_DOMAIN.endswith('openstreetmap.org') else 'http'\n",
        "USER_AGENT = 'dsk-office-geocoder'\n",
        "MIN_DELAY_SECONDS = 1.1  # follow the public Nominatim usage policy\n",
        "REQUEST_TIMEOUT = 10\n\n",
        "geolocator = Nominatim(\n",
        "    user_agent=USER_AGENT,\n",
        "    domain=GEOCODER_DOMAIN,\n",
        "    scheme=GEOCODER_SCHEME,\n",
        "    timeout=REQUEST_TIMEOUT,\n",
        ")\n",
        "geocode = RateLimiter(\n",
        "    geolocator.geocode,\n",
        "    min_delay_seconds=MIN_DELAY_SECONDS,\n",
        "    swallow_exceptions=False,\n",
        ")\n"
      ]
    },
    {
      "cell_type": "code",
      "execution_count": null,
      "metadata": {},
      "outputs": [],
      "source": [
        "def build_query(entry: Dict[str, str]) -> str:\n",
        "    address_parts = [entry.get('address_line'), entry.get('city'), 'Bulgaria']\n",
        "    return ', '.join([part for part in address_parts if part])\n\n\n",
        "def geocode_entry(entry: Dict[str, str]) -> Tuple[float, float, str]:\n",
        "    query = build_query(entry)\n",
        "    if not query:\n",
        "        return (None, None, '')\n",
        "    location = geocode(query)\n",
        "    if not location:\n",
        "        return (None, None, '')\n",
        "    return (location.latitude, location.longitude, location.address or '')\n"
      ]
    },
    {
      "cell_type": "code",
      "execution_count": null,
      "metadata": {},
      "outputs": [],
      "source": [
        "geocode_cache: Dict[str, Tuple[float, float, str]] = {}\n",
        "enriched_entries = []\n",
        "for entry in entries:\n",
        "    query = build_query(entry)\n",
        "    if query in geocode_cache:\n",
        "        latitude, longitude, resolved = geocode_cache[query]\n",
        "    else:\n",
        "        latitude, longitude, resolved = geocode_entry(entry)\n",
        "        geocode_cache[query] = (latitude, longitude, resolved)\n",
        "    enriched_entry = dict(entry)\n",
        "    enriched_entry['latitude'] = latitude\n",
        "    enriched_entry['longitude'] = longitude\n",
        "    if resolved:\n",
        "        enriched_entry['geocoded_address'] = resolved\n",
        "    enriched_entries.append(enriched_entry)\n",
        "\n",
        "enriched_df = pd.DataFrame(enriched_entries)\n",
        "enriched_df[['office_name', 'latitude', 'longitude']].head()\n"
      ]
    },
    {
      "cell_type": "markdown",
      "metadata": {},
      "source": [
        "Persist the enriched payload. By default we keep the original file untouched and write a sibling file. Change `OUTPUT_PATH` to `DATA_PATH` if you want to overwrite in place once you are happy with the results."
      ]
    },
    {
      "cell_type": "code",
      "execution_count": null,
      "metadata": {},
      "outputs": [],
      "source": [
        "OUTPUT_PATH = Path('dsk_offices_parsed_with_coords.json')\n\n",
        "offices_payload['entries'] = enriched_entries\n",
        "with OUTPUT_PATH.open('w', encoding='utf-8') as fp:\n",
        "    json.dump(offices_payload, fp, ensure_ascii=False, indent=2)\n",
        "print(f'Wrote {len(enriched_entries)} entries with coordinates to {OUTPUT_PATH}')\n"
      ]
    }
  ],
  "metadata": {
    "kernelspec": {
      "display_name": "Python 3",
      "language": "python",
      "name": "python3"
    },
    "language_info": {
      "name": "python"
    }
  },
  "nbformat": 4,
  "nbformat_minor": 5
}